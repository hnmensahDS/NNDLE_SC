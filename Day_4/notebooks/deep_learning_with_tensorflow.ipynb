{
 "cells": [
  {
   "cell_type": "markdown",
   "metadata": {},
   "source": [
    "## Deep Learning with TensorFlow\n",
    "\n",
    "Classical machine learning relies on using statistics to determine relationships between features and labels, and can be very effective for creating predictive models. However, a massive growth in the availability of data coupled with advances in the computing technology required to process it has led to the emergence of new machine learning techniques that mimic the way the brain processes information in a structure called an artificial neural network.\n",
    "\n",
    "TensorFlow is a framework for creating machine learning models, including deep neural networks (DNNs). In this example, we'll use Tensorflow to create a simple neural network that classifies penguins into species based on the length and depth of their culmen (bill), their flipper length, and their body mass.\n",
    "\n",
    "> Citation: The penguins dataset used in the this exercise is a subset of data collected and made available by [Dr. Kristen Gorman](https://www.uaf.edu/cfos/people/faculty/detail/kristen-gorman.php) and the Palmer Station, Antarctica LTER, a member of the Long Term Ecological Research Network.\n",
    "\n",
    "## Explore the dataset\n",
    "\n",
    "Before we start using TensorFlow to create a model, let's load the data we need from the Palmer Islands penguins dataset, which contains observations of three different species of penguin.\n",
    "\n",
    "> Note: In reality, you can solve the penguin classification problem easily using classical machine learning techniques without the need for a deep learning model; but it's a useful, easy to understand dataset with which to demonstrate the principles of neural networks in this notebook."
   ]
  },
  {
   "cell_type": "code",
   "execution_count": 1,
   "metadata": {},
   "outputs": [
    {
     "name": "stderr",
     "output_type": "stream",
     "text": [
      "/var/folders/8r/6y64b3kn7lx_7f5_1tcqzlvw0000gn/T/ipykernel_24502/3609634557.py:15: FutureWarning: The frame.append method is deprecated and will be removed from pandas in a future version. Use pandas.concat instead.\n",
      "  penguins = penguins.append(penguins)\n",
      "/var/folders/8r/6y64b3kn7lx_7f5_1tcqzlvw0000gn/T/ipykernel_24502/3609634557.py:15: FutureWarning: The frame.append method is deprecated and will be removed from pandas in a future version. Use pandas.concat instead.\n",
      "  penguins = penguins.append(penguins)\n"
     ]
    },
    {
     "data": {
      "text/html": [
       "<div>\n",
       "<style scoped>\n",
       "    .dataframe tbody tr th:only-of-type {\n",
       "        vertical-align: middle;\n",
       "    }\n",
       "\n",
       "    .dataframe tbody tr th {\n",
       "        vertical-align: top;\n",
       "    }\n",
       "\n",
       "    .dataframe thead th {\n",
       "        text-align: right;\n",
       "    }\n",
       "</style>\n",
       "<table border=\"1\" class=\"dataframe\">\n",
       "  <thead>\n",
       "    <tr style=\"text-align: right;\">\n",
       "      <th></th>\n",
       "      <th>CulmenLength</th>\n",
       "      <th>CulmenDepth</th>\n",
       "      <th>FlipperLength</th>\n",
       "      <th>BodyMass</th>\n",
       "      <th>Species</th>\n",
       "    </tr>\n",
       "  </thead>\n",
       "  <tbody>\n",
       "    <tr>\n",
       "      <th>269</th>\n",
       "      <td>48.8</td>\n",
       "      <td>16.2</td>\n",
       "      <td>22.2</td>\n",
       "      <td>60.00</td>\n",
       "      <td>1</td>\n",
       "    </tr>\n",
       "    <tr>\n",
       "      <th>95</th>\n",
       "      <td>40.8</td>\n",
       "      <td>18.9</td>\n",
       "      <td>20.8</td>\n",
       "      <td>43.00</td>\n",
       "      <td>0</td>\n",
       "    </tr>\n",
       "    <tr>\n",
       "      <th>45</th>\n",
       "      <td>39.6</td>\n",
       "      <td>18.8</td>\n",
       "      <td>19.0</td>\n",
       "      <td>46.00</td>\n",
       "      <td>0</td>\n",
       "    </tr>\n",
       "    <tr>\n",
       "      <th>93</th>\n",
       "      <td>39.6</td>\n",
       "      <td>18.1</td>\n",
       "      <td>18.6</td>\n",
       "      <td>44.50</td>\n",
       "      <td>0</td>\n",
       "    </tr>\n",
       "    <tr>\n",
       "      <th>282</th>\n",
       "      <td>46.1</td>\n",
       "      <td>18.2</td>\n",
       "      <td>17.8</td>\n",
       "      <td>32.50</td>\n",
       "      <td>2</td>\n",
       "    </tr>\n",
       "    <tr>\n",
       "      <th>299</th>\n",
       "      <td>50.6</td>\n",
       "      <td>19.4</td>\n",
       "      <td>19.3</td>\n",
       "      <td>38.00</td>\n",
       "      <td>2</td>\n",
       "    </tr>\n",
       "    <tr>\n",
       "      <th>290</th>\n",
       "      <td>45.9</td>\n",
       "      <td>17.1</td>\n",
       "      <td>19.0</td>\n",
       "      <td>35.75</td>\n",
       "      <td>2</td>\n",
       "    </tr>\n",
       "    <tr>\n",
       "      <th>273</th>\n",
       "      <td>50.4</td>\n",
       "      <td>15.7</td>\n",
       "      <td>22.2</td>\n",
       "      <td>57.50</td>\n",
       "      <td>1</td>\n",
       "    </tr>\n",
       "    <tr>\n",
       "      <th>23</th>\n",
       "      <td>38.2</td>\n",
       "      <td>18.1</td>\n",
       "      <td>18.5</td>\n",
       "      <td>39.50</td>\n",
       "      <td>0</td>\n",
       "    </tr>\n",
       "    <tr>\n",
       "      <th>262</th>\n",
       "      <td>50.5</td>\n",
       "      <td>15.2</td>\n",
       "      <td>21.6</td>\n",
       "      <td>50.00</td>\n",
       "      <td>1</td>\n",
       "    </tr>\n",
       "  </tbody>\n",
       "</table>\n",
       "</div>"
      ],
      "text/plain": [
       "     CulmenLength  CulmenDepth  FlipperLength  BodyMass  Species\n",
       "269          48.8         16.2           22.2     60.00        1\n",
       "95           40.8         18.9           20.8     43.00        0\n",
       "45           39.6         18.8           19.0     46.00        0\n",
       "93           39.6         18.1           18.6     44.50        0\n",
       "282          46.1         18.2           17.8     32.50        2\n",
       "299          50.6         19.4           19.3     38.00        2\n",
       "290          45.9         17.1           19.0     35.75        2\n",
       "273          50.4         15.7           22.2     57.50        1\n",
       "23           38.2         18.1           18.5     39.50        0\n",
       "262          50.5         15.2           21.6     50.00        1"
      ]
     },
     "execution_count": 1,
     "metadata": {},
     "output_type": "execute_result"
    }
   ],
   "source": [
    "import pandas as pd\n",
    "\n",
    "# load the training dataset (excluding rows with null values)\n",
    "penguins = pd.read_csv('assets/penguins.csv').dropna()\n",
    "\n",
    "# Deep Learning models work best when features are on similar scales\n",
    "# In a real solution, we'd implement some custom normalization for each feature, but to keep things simple\n",
    "# we'll just rescale the FlipperLength and BodyMass so they're on a similar scale to the bill measurements\n",
    "penguins['FlipperLength'] = penguins['FlipperLength']/10\n",
    "penguins['BodyMass'] = penguins['BodyMass']/100\n",
    "\n",
    "# The dataset is too small to be useful for deep learning\n",
    "# So we'll oversample it to increase its size\n",
    "for i in range(1,3):\n",
    "    penguins = penguins.append(penguins)\n",
    "\n",
    "# Display a random sample of 10 observations\n",
    "sample = penguins.sample(10)\n",
    "sample"
   ]
  },
  {
   "cell_type": "markdown",
   "metadata": {},
   "source": [
    "The **Species** column is the label our model will predict. Each label value represents a class of penguin species, encoded as 0, 1, or 2. The following code shows the actual species to which these class labels corrrespond."
   ]
  },
  {
   "cell_type": "code",
   "execution_count": 2,
   "metadata": {},
   "outputs": [
    {
     "name": "stdout",
     "output_type": "stream",
     "text": [
      "['CulmenLength' 'CulmenDepth' 'FlipperLength' 'BodyMass' 'Species'] SpeciesName\n",
      "[ 42.4 17.3 18.1 36.0 2 ] Chinstrap\n",
      "[ 39.1 18.7 18.1 37.5 0 ] Adelie\n",
      "[ 43.5 15.2 21.3 46.5 1 ] Gentoo\n",
      "[ 49.1 14.8 22.0 51.5 1 ] Gentoo\n",
      "[ 34.0 17.1 18.5 34.0 0 ] Adelie\n",
      "[ 45.0 15.4 22.0 50.5 1 ] Gentoo\n",
      "[ 42.4 17.3 18.1 36.0 2 ] Chinstrap\n",
      "[ 52.0 19.0 19.7 41.5 2 ] Chinstrap\n",
      "[ 35.2 15.9 18.6 30.5 0 ] Adelie\n",
      "[ 48.2 14.3 21.0 46.0 1 ] Gentoo\n"
     ]
    }
   ],
   "source": [
    "penguin_classes = ['Adelie', 'Gentoo', 'Chinstrap']\n",
    "print(sample.columns[0:5].values, 'SpeciesName')\n",
    "for index, row in penguins.sample(10).iterrows():\n",
    "    print('[',row[0], row[1], row[2],row[3], int(row[4]), ']',penguin_classes[int(row[-1])])"
   ]
  },
  {
   "cell_type": "markdown",
   "metadata": {},
   "source": [
    "As is common in a supervised learning problem, we'll split the dataset into a set of records with which to train the model, and a smaller set with which to validate the trained model."
   ]
  },
  {
   "cell_type": "code",
   "execution_count": 3,
   "metadata": {},
   "outputs": [
    {
     "name": "stdout",
     "output_type": "stream",
     "text": [
      "Training Set: 957, Test Set: 411 \n",
      "\n",
      "Sample of features and labels:\n",
      "[51.1 16.5 22.5 52.5] 1 (Gentoo)\n",
      "[50.7 19.7 20.3 40.5] 2 (Chinstrap)\n",
      "[49.5 16.2 22.9 58. ] 1 (Gentoo)\n",
      "[39.3 20.6 19.  36.5] 0 (Adelie)\n",
      "[42.5 20.7 19.7 45. ] 0 (Adelie)\n",
      "[50.  15.3 22.  55.5] 1 (Gentoo)\n",
      "[50.2  18.7  19.8  37.75] 2 (Chinstrap)\n",
      "[50.7 19.7 20.3 40.5] 2 (Chinstrap)\n",
      "[49.1  14.5  21.2  46.25] 1 (Gentoo)\n",
      "[43.2 16.6 18.7 29. ] 2 (Chinstrap)\n",
      "[38.8  17.6  19.1  32.75] 0 (Adelie)\n",
      "[37.8 17.1 18.6 33. ] 0 (Adelie)\n",
      "[45.8 14.2 21.9 47. ] 1 (Gentoo)\n",
      "[43.8 13.9 20.8 43. ] 1 (Gentoo)\n",
      "[36.  17.1 18.7 37. ] 0 (Adelie)\n",
      "[43.3 13.4 20.9 44. ] 1 (Gentoo)\n",
      "[36.  18.5 18.6 31. ] 0 (Adelie)\n",
      "[41.1  19.   18.2  34.25] 0 (Adelie)\n",
      "[33.1 16.1 17.8 29. ] 0 (Adelie)\n",
      "[40.9 13.7 21.4 46.5] 1 (Gentoo)\n",
      "[45.2 17.8 19.8 39.5] 2 (Chinstrap)\n",
      "[48.4 14.6 21.3 58.5] 1 (Gentoo)\n",
      "[43.6 13.9 21.7 49. ] 1 (Gentoo)\n",
      "[38.5  17.9  19.   33.25] 0 (Adelie)\n"
     ]
    }
   ],
   "source": [
    "from sklearn.model_selection import train_test_split\n",
    "\n",
    "features = ['CulmenLength','CulmenDepth','FlipperLength','BodyMass']\n",
    "label = 'Species'\n",
    "   \n",
    "# Split data 70%-30% into training set and test set\n",
    "x_train, x_test, y_train, y_test = train_test_split(penguins[features].values,\n",
    "                                                    penguins[label].values,\n",
    "                                                    test_size=0.30,\n",
    "                                                    random_state=0)\n",
    "\n",
    "print ('Training Set: %d, Test Set: %d \\n' % (len(x_train), len(x_test)))\n",
    "print(\"Sample of features and labels:\")\n",
    "\n",
    "# Take a look at the first 25 training features and corresponding labels\n",
    "for n in range(0,24):\n",
    "    print(x_train[n], y_train[n], '(' + penguin_classes[y_train[n]] + ')')"
   ]
  },
  {
   "cell_type": "markdown",
   "metadata": {},
   "source": [
    "The features are the measurements for each penguin observation, and the label is a numeric value that indicates the species of penguin that the observation represents (Adelie, Gentoo, or Chinstrap).\n",
    "\n",
    "## Install and import TensorFlow libraries\n",
    "\n",
    "Since we plan to use TensorFlow to create our penguin classifier, we'll need to run the following two cells to install and import the libraries we intend to use.\n",
    "\n",
    "> Note Keras is an abstraction layer over the base TensorFlow API. In most common machine learning scenarios, you can use Keras to simplify your code."
   ]
  },
  {
   "cell_type": "code",
   "execution_count": null,
   "metadata": {},
   "outputs": [],
   "source": [
    "#!pip install --upgrade tensorflow"
   ]
  },
  {
   "cell_type": "code",
   "execution_count": 4,
   "metadata": {},
   "outputs": [
    {
     "name": "stdout",
     "output_type": "stream",
     "text": [
      "Libraries imported.\n",
      "Keras version: 2.7.0\n",
      "TensorFlow version: 2.7.0\n"
     ]
    }
   ],
   "source": [
    "import tensorflow\n",
    "from tensorflow import keras\n",
    "from tensorflow.keras import models\n",
    "from tensorflow.keras.models import Sequential\n",
    "from tensorflow.keras.layers import Dense\n",
    "from tensorflow.keras import utils\n",
    "from tensorflow.keras import optimizers\n",
    "\n",
    "# Set random seed for reproducability\n",
    "tensorflow.random.set_seed(0)\n",
    "\n",
    "print(\"Libraries imported.\")\n",
    "print('Keras version:',keras.__version__)\n",
    "print('TensorFlow version:',tensorflow.__version__)"
   ]
  },
  {
   "cell_type": "markdown",
   "metadata": {},
   "source": [
    "## Prepare the data for TensorFlow\n",
    "\n",
    "We've already loaded our data and split it into training and validation datasets. However, we need to do some further data preparation so that our data will work correctly with TensorFlow. Specifically, we need to set the data type of our features to 32-bit floating point numbers, and specify that the labels represent categorical classes rather than numeric values."
   ]
  },
  {
   "cell_type": "code",
   "execution_count": 5,
   "metadata": {},
   "outputs": [
    {
     "name": "stdout",
     "output_type": "stream",
     "text": [
      "Ready...\n"
     ]
    }
   ],
   "source": [
    "# Set data types for float features\n",
    "x_train = x_train.astype('float32')\n",
    "x_test = x_test.astype('float32')\n",
    "\n",
    "# Set data types for categorical labels\n",
    "y_train = utils.to_categorical(y_train)\n",
    "y_test = utils.to_categorical(y_test)\n",
    "print('Ready...')"
   ]
  },
  {
   "cell_type": "markdown",
   "metadata": {},
   "source": [
    "## Define a neural network\n",
    "\n",
    "Now we're ready to define our neural network. In this case, we'll create a network that consists of 3 fully-connected layers:\n",
    "\n",
    "- An input layer that receives an input value for each feature (in this case, the four penguin measurements) and applies a ReLU activation function.\n",
    "- A hidden layer that receives ten inputs and applies a ReLU activation function.\n",
    "- An output layer that uses a SoftMax activation function to generate an output for each penguin species (which represent the classification probabilities for each of the three possible penguin species). Softmax functions produce a vector with probability values that sum to 1."
   ]
  },
  {
   "cell_type": "code",
   "execution_count": 6,
   "metadata": {},
   "outputs": [
    {
     "name": "stderr",
     "output_type": "stream",
     "text": [
      "2022-11-25 00:54:06.891397: I tensorflow/core/common_runtime/pluggable_device/pluggable_device_factory.cc:305] Could not identify NUMA node of platform GPU ID 0, defaulting to 0. Your kernel may not have been built with NUMA support.\n",
      "2022-11-25 00:54:06.892340: I tensorflow/core/common_runtime/pluggable_device/pluggable_device_factory.cc:271] Created TensorFlow device (/job:localhost/replica:0/task:0/device:GPU:0 with 0 MB memory) -> physical PluggableDevice (device: 0, name: METAL, pci bus id: <undefined>)\n"
     ]
    },
    {
     "name": "stdout",
     "output_type": "stream",
     "text": [
      "Metal device set to: Apple M1 Pro\n",
      "\n",
      "systemMemory: 16.00 GB\n",
      "maxCacheSize: 5.33 GB\n",
      "\n",
      "Model: \"sequential\"\n",
      "_________________________________________________________________\n",
      " Layer (type)                Output Shape              Param #   \n",
      "=================================================================\n",
      " dense (Dense)               (None, 10)                50        \n",
      "                                                                 \n",
      " dense_1 (Dense)             (None, 10)                110       \n",
      "                                                                 \n",
      " dense_2 (Dense)             (None, 3)                 33        \n",
      "                                                                 \n",
      "=================================================================\n",
      "Total params: 193\n",
      "Trainable params: 193\n",
      "Non-trainable params: 0\n",
      "_________________________________________________________________\n",
      "None\n"
     ]
    }
   ],
   "source": [
    "# Define a classifier network\n",
    "hl = 10 # Number of hidden layer nodes\n",
    "\n",
    "model = Sequential()\n",
    "model.add(Dense(hl, input_dim=len(features), activation='relu'))\n",
    "model.add(Dense(hl, input_dim=hl, activation='relu'))\n",
    "model.add(Dense(len(penguin_classes), input_dim=hl, activation='softmax'))\n",
    "\n",
    "print(model.summary())"
   ]
  },
  {
   "cell_type": "markdown",
   "metadata": {},
   "source": [
    "## Train the model\n",
    "\n",
    "To train the model, we need to repeatedly feed the training values forward through the network, use a loss function to calculate the loss, use an optimizer to backpropagate the weight and bias value adjustments, and validate the model using the test data we withheld.\n",
    "\n",
    "To do this, we'll apply an Adam optimizer to a categorical cross-entropy loss function iteratively over 50 epochs."
   ]
  },
  {
   "cell_type": "code",
   "execution_count": 7,
   "metadata": {},
   "outputs": [
    {
     "name": "stderr",
     "output_type": "stream",
     "text": [
      "/Users/henrynunoo-mensah/mambaforge/envs/mlep-w1-lab/lib/python3.9/site-packages/keras/optimizer_v2/adam.py:105: UserWarning: The `lr` argument is deprecated, use `learning_rate` instead.\n",
      "  super(Adam, self).__init__(name, **kwargs)\n",
      "2022-11-25 00:54:58.059871: W tensorflow/core/platform/profile_utils/cpu_utils.cc:128] Failed to get CPU frequency: 0 Hz\n"
     ]
    },
    {
     "name": "stdout",
     "output_type": "stream",
     "text": [
      "Epoch 1/50\n"
     ]
    },
    {
     "name": "stderr",
     "output_type": "stream",
     "text": [
      "2022-11-25 00:54:58.290577: I tensorflow/core/grappler/optimizers/custom_graph_optimizer_registry.cc:112] Plugin optimizer for device_type GPU is enabled.\n"
     ]
    },
    {
     "name": "stdout",
     "output_type": "stream",
     "text": [
      "96/96 [==============================] - ETA: 0s - loss: 1.0496 - accuracy: 0.5977"
     ]
    },
    {
     "name": "stderr",
     "output_type": "stream",
     "text": [
      "2022-11-25 00:55:02.231577: I tensorflow/core/grappler/optimizers/custom_graph_optimizer_registry.cc:112] Plugin optimizer for device_type GPU is enabled.\n"
     ]
    },
    {
     "name": "stdout",
     "output_type": "stream",
     "text": [
      "96/96 [==============================] - 5s 23ms/step - loss: 1.0496 - accuracy: 0.5977 - val_loss: 0.7031 - val_accuracy: 0.7664\n",
      "Epoch 2/50\n",
      "96/96 [==============================] - 1s 11ms/step - loss: 0.6655 - accuracy: 0.8015 - val_loss: 0.6197 - val_accuracy: 0.9002\n",
      "Epoch 3/50\n",
      "96/96 [==============================] - 1s 11ms/step - loss: 0.5917 - accuracy: 0.8391 - val_loss: 0.5321 - val_accuracy: 0.9197\n",
      "Epoch 4/50\n",
      "96/96 [==============================] - 1s 12ms/step - loss: 0.5007 - accuracy: 0.8924 - val_loss: 0.4501 - val_accuracy: 0.9027\n",
      "Epoch 5/50\n",
      "96/96 [==============================] - 1s 12ms/step - loss: 0.4020 - accuracy: 0.9206 - val_loss: 0.3857 - val_accuracy: 0.9343\n",
      "Epoch 6/50\n",
      "96/96 [==============================] - 1s 12ms/step - loss: 0.3268 - accuracy: 0.9321 - val_loss: 0.2972 - val_accuracy: 0.9489\n",
      "Epoch 7/50\n",
      "96/96 [==============================] - 1s 12ms/step - loss: 0.2715 - accuracy: 0.9342 - val_loss: 0.2510 - val_accuracy: 0.9465\n",
      "Epoch 8/50\n",
      "96/96 [==============================] - 1s 12ms/step - loss: 0.2227 - accuracy: 0.9457 - val_loss: 0.2217 - val_accuracy: 0.9538\n",
      "Epoch 9/50\n",
      "96/96 [==============================] - 1s 14ms/step - loss: 0.1967 - accuracy: 0.9498 - val_loss: 0.1805 - val_accuracy: 0.9635\n",
      "Epoch 10/50\n",
      "96/96 [==============================] - 1s 12ms/step - loss: 0.1707 - accuracy: 0.9509 - val_loss: 0.1617 - val_accuracy: 0.9708\n",
      "Epoch 11/50\n",
      "96/96 [==============================] - 1s 12ms/step - loss: 0.1639 - accuracy: 0.9561 - val_loss: 0.1495 - val_accuracy: 0.9562\n",
      "Epoch 12/50\n",
      "96/96 [==============================] - 1s 12ms/step - loss: 0.1483 - accuracy: 0.9582 - val_loss: 0.1331 - val_accuracy: 0.9732\n",
      "Epoch 13/50\n",
      "96/96 [==============================] - 1s 14ms/step - loss: 0.1224 - accuracy: 0.9687 - val_loss: 0.1228 - val_accuracy: 0.9732\n",
      "Epoch 14/50\n",
      "96/96 [==============================] - 1s 14ms/step - loss: 0.1185 - accuracy: 0.9634 - val_loss: 0.1186 - val_accuracy: 0.9684\n",
      "Epoch 15/50\n",
      "96/96 [==============================] - 1s 13ms/step - loss: 0.1098 - accuracy: 0.9697 - val_loss: 0.1224 - val_accuracy: 0.9635\n",
      "Epoch 16/50\n",
      "96/96 [==============================] - 1s 12ms/step - loss: 0.1065 - accuracy: 0.9718 - val_loss: 0.0960 - val_accuracy: 0.9781\n",
      "Epoch 17/50\n",
      "96/96 [==============================] - 1s 13ms/step - loss: 0.0959 - accuracy: 0.9707 - val_loss: 0.0942 - val_accuracy: 0.9805\n",
      "Epoch 18/50\n",
      "96/96 [==============================] - 1s 15ms/step - loss: 0.0898 - accuracy: 0.9728 - val_loss: 0.0979 - val_accuracy: 0.9732\n",
      "Epoch 19/50\n",
      "96/96 [==============================] - 1s 14ms/step - loss: 0.0905 - accuracy: 0.9718 - val_loss: 0.0960 - val_accuracy: 0.9732\n",
      "Epoch 20/50\n",
      "96/96 [==============================] - 1s 13ms/step - loss: 0.0801 - accuracy: 0.9770 - val_loss: 0.1435 - val_accuracy: 0.9465\n",
      "Epoch 21/50\n",
      "96/96 [==============================] - 1s 13ms/step - loss: 0.0752 - accuracy: 0.9770 - val_loss: 0.0803 - val_accuracy: 0.9805\n",
      "Epoch 22/50\n",
      "96/96 [==============================] - 1s 12ms/step - loss: 0.0689 - accuracy: 0.9781 - val_loss: 0.1056 - val_accuracy: 0.9586\n",
      "Epoch 23/50\n",
      "96/96 [==============================] - 1s 14ms/step - loss: 0.0726 - accuracy: 0.9801 - val_loss: 0.0803 - val_accuracy: 0.9757\n",
      "Epoch 24/50\n",
      "96/96 [==============================] - 1s 14ms/step - loss: 0.0599 - accuracy: 0.9833 - val_loss: 0.0591 - val_accuracy: 0.9878\n",
      "Epoch 25/50\n",
      "96/96 [==============================] - 1s 14ms/step - loss: 0.0601 - accuracy: 0.9864 - val_loss: 0.0645 - val_accuracy: 0.9830\n",
      "Epoch 26/50\n",
      "96/96 [==============================] - 1s 13ms/step - loss: 0.0644 - accuracy: 0.9801 - val_loss: 0.0559 - val_accuracy: 0.9903\n",
      "Epoch 27/50\n",
      "96/96 [==============================] - 1s 12ms/step - loss: 0.0556 - accuracy: 0.9864 - val_loss: 0.0518 - val_accuracy: 0.9903\n",
      "Epoch 28/50\n",
      "96/96 [==============================] - 1s 12ms/step - loss: 0.0509 - accuracy: 0.9843 - val_loss: 0.0658 - val_accuracy: 0.9708\n",
      "Epoch 29/50\n",
      "96/96 [==============================] - 1s 12ms/step - loss: 0.0484 - accuracy: 0.9854 - val_loss: 0.0491 - val_accuracy: 0.9903\n",
      "Epoch 30/50\n",
      "96/96 [==============================] - 1s 12ms/step - loss: 0.0466 - accuracy: 0.9896 - val_loss: 0.0484 - val_accuracy: 0.9854\n",
      "Epoch 31/50\n",
      "96/96 [==============================] - 1s 12ms/step - loss: 0.0561 - accuracy: 0.9791 - val_loss: 0.0463 - val_accuracy: 0.9903\n",
      "Epoch 32/50\n",
      "96/96 [==============================] - 1s 11ms/step - loss: 0.0459 - accuracy: 0.9854 - val_loss: 0.0455 - val_accuracy: 0.9854\n",
      "Epoch 33/50\n",
      "96/96 [==============================] - 1s 12ms/step - loss: 0.0430 - accuracy: 0.9896 - val_loss: 0.0441 - val_accuracy: 0.9927\n",
      "Epoch 34/50\n",
      "96/96 [==============================] - 1s 12ms/step - loss: 0.0480 - accuracy: 0.9843 - val_loss: 0.0946 - val_accuracy: 0.9611\n",
      "Epoch 35/50\n",
      "96/96 [==============================] - 1s 12ms/step - loss: 0.0362 - accuracy: 0.9958 - val_loss: 0.0400 - val_accuracy: 0.9903\n",
      "Epoch 36/50\n",
      "96/96 [==============================] - 1s 12ms/step - loss: 0.0361 - accuracy: 0.9916 - val_loss: 0.0389 - val_accuracy: 0.9854\n",
      "Epoch 37/50\n",
      "96/96 [==============================] - 1s 12ms/step - loss: 0.0364 - accuracy: 0.9916 - val_loss: 0.0357 - val_accuracy: 0.9903\n",
      "Epoch 38/50\n",
      "96/96 [==============================] - 1s 12ms/step - loss: 0.0381 - accuracy: 0.9906 - val_loss: 0.0414 - val_accuracy: 0.9976\n",
      "Epoch 39/50\n",
      "96/96 [==============================] - 1s 12ms/step - loss: 0.0367 - accuracy: 0.9885 - val_loss: 0.0491 - val_accuracy: 0.9805\n",
      "Epoch 40/50\n",
      "96/96 [==============================] - 1s 12ms/step - loss: 0.0428 - accuracy: 0.9843 - val_loss: 0.0368 - val_accuracy: 0.9903\n",
      "Epoch 41/50\n",
      "96/96 [==============================] - 1s 12ms/step - loss: 0.0312 - accuracy: 0.9927 - val_loss: 0.0336 - val_accuracy: 0.9903\n",
      "Epoch 42/50\n",
      "96/96 [==============================] - 1s 12ms/step - loss: 0.0407 - accuracy: 0.9885 - val_loss: 0.0312 - val_accuracy: 0.9951\n",
      "Epoch 43/50\n",
      "96/96 [==============================] - 1s 12ms/step - loss: 0.0349 - accuracy: 0.9875 - val_loss: 0.0311 - val_accuracy: 0.9976\n",
      "Epoch 44/50\n",
      "96/96 [==============================] - 1s 11ms/step - loss: 0.0362 - accuracy: 0.9875 - val_loss: 0.0444 - val_accuracy: 0.9805\n",
      "Epoch 45/50\n",
      "96/96 [==============================] - 1s 11ms/step - loss: 0.0301 - accuracy: 0.9927 - val_loss: 0.0299 - val_accuracy: 0.9951\n",
      "Epoch 46/50\n",
      "96/96 [==============================] - 1s 12ms/step - loss: 0.0270 - accuracy: 0.9927 - val_loss: 0.0270 - val_accuracy: 0.9951\n",
      "Epoch 47/50\n",
      "96/96 [==============================] - 1s 12ms/step - loss: 0.0366 - accuracy: 0.9843 - val_loss: 0.0292 - val_accuracy: 0.9951\n",
      "Epoch 48/50\n",
      "96/96 [==============================] - 1s 12ms/step - loss: 0.0291 - accuracy: 0.9937 - val_loss: 0.0438 - val_accuracy: 0.9684\n",
      "Epoch 49/50\n",
      "96/96 [==============================] - 1s 11ms/step - loss: 0.0259 - accuracy: 0.9937 - val_loss: 0.0359 - val_accuracy: 0.9830\n",
      "Epoch 50/50\n",
      "96/96 [==============================] - 1s 12ms/step - loss: 0.0246 - accuracy: 0.9937 - val_loss: 0.0371 - val_accuracy: 0.9854\n"
     ]
    }
   ],
   "source": [
    "#hyper-parameters for optimizer\n",
    "learning_rate = 0.001\n",
    "opt = optimizers.Adam(lr=learning_rate)\n",
    "\n",
    "model.compile(loss='categorical_crossentropy',\n",
    "              optimizer=opt,\n",
    "              metrics=['accuracy'])\n",
    "\n",
    "# Train the model over 50 epochs using 10-observation batches and using the test holdout dataset for validation\n",
    "num_epochs = 50\n",
    "history = model.fit(x_train, y_train, epochs=num_epochs, batch_size=10, validation_data=(x_test, y_test))"
   ]
  },
  {
   "cell_type": "markdown",
   "metadata": {},
   "source": [
    "While the training process is running, let's try to understand what's happening:\n",
    "\n",
    "1. In each epoch, the full set of training data is passed forward through the network. There are four features for each observation, and four corresponding nodes in the input layer - so the features for each observation are passed as a vector of four values to that layer. However, for efficiency, the feature vectors are grouped into batches; so actually a matrix of multiple feature vectors is fed in each time.\n",
    "2. The matrix of feature values is processed by a function that performs a weighted sum using initialized weights and bias values. The result of this function is then processed by the activation function for the input layer to constrain the values passed to the nodes in the next layer.\n",
    "3. The weighted sum and activation functions are repeated in each layer. Note that the functions operate on vectors and matrices rather than individual scalar values. In other words, the forward pass is essentially a series of nested linear algebra functions. This is the reason data scientists prefer to use computers with graphical processing units (GPUs), since these are optimized for matrix and vector calculations.\n",
    "4. In the final layer of the network, the output vectors contain a probability value for each possible class (in this case, classes 0, 1, and 2). This vector is processed by a loss function to determine how far the values calculated by the network are from the actual values - so for example, suppose the output for a Gentoo penguin (class 1) observation is [0.3, 0.4, 0.3]. The correct prediction should be [0.0, 1.0, 0.0], so the variance between the predicted and actual values (how far away the each predicted value is from what it should be) is [0.3, 0.6, 0.3]. This variance is aggregated for each batch and maintained as a running aggregate to calculate the overall level of error (loss) incurred by the training data for the epoch. The accuracy (proportion of correct predictions based on the highest probability value in the output vector) for the training data is also calculated.\n",
    "5. At the end of each epoch, the validation data is passed through the network, and its loss and accuracy are also calculated. It's important to do this because it enables us to compare the performance of the model using data on which it was not trained, helping us determine if it will generalize well for new data or if it's overfitted to the training data.\n",
    "6. After all the data has been passed forward through the network, the output of the loss function for the training data (but not the validation data) is passed to the opimizer. The precise details of how the optimizer processes the loss vary depending on the specific optimization algorithm being used; but fundamentally you can think of the entire network, from the input layer to the loss function as being one big nested (composite) function. The optimizer applies some differential calculus to calculate partial derivatives for the function with respect to each weight and bias value that was used in the network. It's possible to do this efficiently for a nested function due to something called the chain rule, which enables you to determine the derivative of a composite function from the derivatives of its inner function and outer functions. You don't really need to worry about the details of the math here (the optimizer does it for you), but the end result is that the partial derivatives tell us about the slope (or gradient) of the loss function with respect to each weight and bias value - in other words, we can determine whether to increase or decrease the weight and bias values in order to decrease the loss.\n",
    "7. Having determined in which direction to adjust the weights and biases, the optimizer uses the learning rate to determine by how much to adjust them; and then works backwards through the network in a process called backpropagation to assign new values to the weights and biases in each layer.\n",
    "8. Now the next epoch repeats the whole training, validation, and backpropagation process starting with the revised weights and biases from the previous epoch - which hopefully will result in a lower level of loss.\n",
    "9. The process continues like this for 50 epochs.\n",
    "\n",
    "## Review training and validation loss\n",
    "\n",
    "After training is complete, we can examine the loss metrics we recorded while training and validating the model. We're really looking for two things:\n",
    "\n",
    "- The loss should reduce with each epoch, showing that the model is learning the right weights and biases to predict the correct labels.\n",
    "- The training loss and validation loss should follow a similar trend, showing that the model is not overfitting to the training data.\n",
    "Let's plot the loss metrics and see:"
   ]
  },
  {
   "cell_type": "code",
   "execution_count": 8,
   "metadata": {},
   "outputs": [
    {
     "data": {
      "image/png": "[encoded data removed]",
      "text/plain": [
       "<Figure size 432x288 with 1 Axes>"
      ]
     },
     "metadata": {
      "needs_background": "light"
     },
     "output_type": "display_data"
    }
   ],
   "source": [
    "%matplotlib inline\n",
    "from matplotlib import pyplot as plt\n",
    "\n",
    "epoch_nums = range(1,num_epochs+1)\n",
    "training_loss = history.history[\"loss\"]\n",
    "validation_loss = history.history[\"val_loss\"]\n",
    "plt.plot(epoch_nums, training_loss)\n",
    "plt.plot(epoch_nums, validation_loss)\n",
    "plt.xlabel('epoch')\n",
    "plt.ylabel('loss')\n",
    "plt.legend(['training', 'validation'], loc='upper right')\n",
    "plt.show()"
   ]
  },
  {
   "cell_type": "markdown",
   "metadata": {},
   "source": [
    "## View the learned weights and biases\n",
    "\n",
    "The trained model consists of the final weights and biases that were determined by the optimizer during training. Based on our network model we should expect the following values for each layer:\n",
    "\n",
    "- Layer 1: There are four input values going to ten output nodes, so there should be 4 x 10 weights and 10 bias values.\n",
    "- Layer 2: There are ten input values going to ten output nodes, so there should be 10 x 10 weights and 10 bias values.\n",
    "- Layer 3: There are ten input values going to three output nodes, so there should be 10 x 3 weights and 3 bias values."
   ]
  },
  {
   "cell_type": "code",
   "execution_count": 9,
   "metadata": {},
   "outputs": [
    {
     "name": "stdout",
     "output_type": "stream",
     "text": [
      "------------\n",
      "Weights:\n",
      " [[-0.17987016  0.15089929  0.5975637   0.5745254  -0.6109057   0.24975222\n",
      "   0.10122716  0.45619446  0.35143074  0.00510728]\n",
      " [-0.22888851  0.301478    0.5687323  -0.41062358  0.37659588 -0.12568861\n",
      "  -0.46118584 -1.1704262  -0.39075547 -0.26529455]\n",
      " [ 0.19194168  0.20952003 -0.425627    0.39475968  0.19793561 -0.366105\n",
      "   0.05375326  0.06983363 -0.16919352 -0.4560116 ]\n",
      " [-0.5162936   0.6232628  -0.2542652   0.00430103  0.22422634 -0.4561875\n",
      "  -0.18179417  0.25064704  0.07889014 -0.4725556 ]] \n",
      "Biases:\n",
      " [ 0.          0.23759283 -0.11348619 -0.17925547 -0.04001666  0.\n",
      "  0.         -0.41798228 -0.33065456  0.        ]\n",
      "------------\n",
      "Weights:\n",
      " [[-0.17084819  0.20826966  0.1465497   0.24728668 -0.28206465  0.40193003\n",
      "  -0.12846142  0.03461909 -0.00782466 -0.15288162]\n",
      " [ 0.46915793 -0.12475321  0.30910218  0.15816736 -0.10303566  0.17021003\n",
      "  -0.5176799  -0.12779036  0.22032851  0.46743476]\n",
      " [-0.23224223  0.2508342   0.08702673 -0.09916344 -0.06616569 -0.4267519\n",
      "   0.12541509  0.31971842 -0.40321445  0.31793377]\n",
      " [-0.19243233  0.48318526 -0.39347783 -0.25527185 -0.06949367 -0.19666913\n",
      "  -0.41936314  0.50819045 -0.20610741  0.10069538]\n",
      " [ 0.52531075  0.3161389   0.1362824   0.20936173 -0.5324363  -0.00262651\n",
      "  -0.3214354   0.069378    0.02074609 -0.20165527]\n",
      " [-0.43232316  0.11730433  0.44248766 -0.18261293 -0.5403978   0.21638042\n",
      "  -0.14062312  0.27984637 -0.19117084  0.02928847]\n",
      " [ 0.0565756   0.01721346 -0.18932748 -0.08445665  0.44335598  0.45273507\n",
      "   0.17398906  0.33048117  0.43057865 -0.18048096]\n",
      " [ 0.42698556  0.11874812  0.52441216 -0.10239045  0.77388245  0.81347\n",
      "   0.35114533  0.6280151   0.19363768  0.00915461]\n",
      " [-0.5889423   0.19083929  0.3078552   0.47814727  0.46531025 -0.2446523\n",
      "  -0.20078337  0.18576896  0.26524433  0.07581282]\n",
      " [-0.11469698 -0.2303884   0.52082896 -0.21308023  0.22599542 -0.08868793\n",
      "   0.01620704  0.50090766 -0.36368936 -0.05432075]] \n",
      "Biases:\n",
      " [ 0.1956464  -0.15429293 -0.41529807 -0.17545515 -0.4561353   0.00995716\n",
      "  0.         -0.386059   -0.09117202  0.36921415]\n",
      "------------\n",
      "Weights:\n",
      " [[ 0.48805052  0.3894841  -0.39743873]\n",
      " [-0.3182431  -0.40899023  0.7178321 ]\n",
      " [-0.59890157 -0.5065355  -0.3949099 ]\n",
      " [-0.38745746 -0.18298896 -0.33469594]\n",
      " [-0.48599377  1.1233741   0.69068724]\n",
      " [ 0.07724429  0.69093126 -0.8603126 ]\n",
      " [ 0.6616868   0.5224658  -0.29322264]\n",
      " [-0.50288725  0.01272526  0.32146722]\n",
      " [-0.1326081  -0.08428231 -0.16869085]\n",
      " [ 0.5236989  -0.12598266 -0.4576588 ]] \n",
      "Biases:\n",
      " [ 0.38626668 -0.21854104 -0.18429111]\n"
     ]
    }
   ],
   "source": [
    "for layer in model.layers:\n",
    "    weights = layer.get_weights()[0]\n",
    "    biases = layer.get_weights()[1]\n",
    "    print('------------\\nWeights:\\n',weights,'\\nBiases:\\n', biases)"
   ]
  },
  {
   "cell_type": "markdown",
   "metadata": {},
   "source": [
    "## Evaluate model performance\n",
    "\n",
    "So, is the model any good? The raw accuracy reported from the validation data would seem to indicate that it predicts pretty well; but it's typically useful to dig a little deeper and compare the predictions for each possible class. A common way to visualize the performance of a classification model is to create a _confusion matrix_ that shows a crosstab of correct and incorrect predictions for each class."
   ]
  },
  {
   "cell_type": "code",
   "execution_count": 10,
   "metadata": {},
   "outputs": [
    {
     "name": "stderr",
     "output_type": "stream",
     "text": [
      "2022-11-25 00:58:47.061924: I tensorflow/core/grappler/optimizers/custom_graph_optimizer_registry.cc:112] Plugin optimizer for device_type GPU is enabled.\n"
     ]
    },
    {
     "data": {
      "image/png": "[encoded data removed]",
      "text/plain": [
       "<Figure size 432x288 with 2 Axes>"
      ]
     },
     "metadata": {
      "needs_background": "light"
     },
     "output_type": "display_data"
    }
   ],
   "source": [
    "# Tensorflow doesn't have a built-in confusion matrix metric, so we'll use SciKit-Learn\n",
    "import numpy as np\n",
    "from sklearn.metrics import confusion_matrix\n",
    "import matplotlib.pyplot as plt\n",
    "%matplotlib inline\n",
    "\n",
    "\n",
    "class_probabilities = model.predict(x_test)\n",
    "predictions = np.argmax(class_probabilities, axis=1)\n",
    "true_labels = np.argmax(y_test, axis=1)\n",
    "\n",
    "# Plot the confusion matrix\n",
    "cm = confusion_matrix(true_labels, predictions)\n",
    "plt.imshow(cm, interpolation=\"nearest\", cmap=plt.cm.Blues)\n",
    "plt.colorbar()\n",
    "tick_marks = np.arange(len(penguin_classes))\n",
    "plt.xticks(tick_marks, penguin_classes, rotation=85)\n",
    "plt.yticks(tick_marks, penguin_classes)\n",
    "plt.xlabel(\"Predicted Species\")\n",
    "plt.ylabel(\"Actual Species\")\n",
    "plt.show()"
   ]
  },
  {
   "cell_type": "markdown",
   "metadata": {},
   "source": [
    "The confusion matrix should show a strong diagonal line indicating that there are more correct than incorrect predictions for each class.\n",
    "\n",
    "## Save the trained model\n",
    "\n",
    "Now that we have a model we believe is reasonably accurate, we can save its trained weights for use later."
   ]
  },
  {
   "cell_type": "code",
   "execution_count": 26,
   "metadata": {},
   "outputs": [
    {
     "name": "stdout",
     "output_type": "stream",
     "text": [
      "model saved as ./model_ouptputs/penguin-classifier.h5\n"
     ]
    }
   ],
   "source": [
    "# Save the trained model\n",
    "modelFileName = './model_ouptputs/penguin-classifier.h5'\n",
    "model.save(modelFileName)\n",
    "del model  # deletes the existing model variable\n",
    "print('model saved as', modelFileName)"
   ]
  },
  {
   "cell_type": "markdown",
   "metadata": {},
   "source": [
    "## Use the trained model\n",
    "\n",
    "When we have a new penguin observation, we can use the model to predict the species."
   ]
  },
  {
   "cell_type": "code",
   "execution_count": 27,
   "metadata": {},
   "outputs": [
    {
     "name": "stdout",
     "output_type": "stream",
     "text": [
      "New sample: [[50.4 15.3 20.  50. ]]\n",
      "Gentoo\n"
     ]
    },
    {
     "name": "stderr",
     "output_type": "stream",
     "text": [
      "2022-11-25 01:05:40.965429: I tensorflow/core/grappler/optimizers/custom_graph_optimizer_registry.cc:112] Plugin optimizer for device_type GPU is enabled.\n"
     ]
    }
   ],
   "source": [
    "# Load the saved model\n",
    "model = models.load_model(modelFileName)\n",
    "\n",
    "# CReate a new array of features\n",
    "x_new = np.array([[50.4,15.3,20,50]])\n",
    "print ('New sample: {}'.format(x_new))\n",
    "\n",
    "# Use the model to predict the class\n",
    "class_probabilities = model.predict(x_new)\n",
    "predictions = np.argmax(class_probabilities, axis=1)\n",
    "\n",
    "print(penguin_classes[predictions[0]])"
   ]
  },
  {
   "cell_type": "markdown",
   "metadata": {},
   "source": [
    "## Learn more\n",
    "\n",
    "This notebook was designed to help you understand the basic concepts and principles involved in deep neural networks, using a simple Tensorflow example. To learn more about Tensorflow, take a look at the [Tensorflow web site](https://www.tensorflow.org/)."
   ]
  },
  {
   "cell_type": "code",
   "execution_count": null,
   "metadata": {},
   "outputs": [],
   "source": []
  }
 ],
 "metadata": {
  "kernelspec": {
   "display_name": "Python 3.9.9 ('mlep-w1-lab')",
   "language": "python",
   "name": "python3"
  },
  "language_info": {
   "codemirror_mode": {
    "name": "ipython",
    "version": 3
   },
   "file_extension": ".py",
   "mimetype": "text/x-python",
   "name": "python",
   "nbconvert_exporter": "python",
   "pygments_lexer": "ipython3",
   "version": "3.9.9"
  },
  "orig_nbformat": 4,
  "vscode": {
   "interpreter": {
    "hash": "43fcc26ba5d8ee98c2faedeedb277d10f02164e52fb3c32eda0142fa15f8ae26"
   }
  }
 },
 "nbformat": 4,
 "nbformat_minor": 2
}
